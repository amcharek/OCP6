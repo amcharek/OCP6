{
 "cells": [
  {
   "cell_type": "markdown",
   "metadata": {},
   "source": [
    "# StackExchange questions and Tags - Modélisation"
   ]
  },
  {
   "cell_type": "markdown",
   "metadata": {},
   "source": [
    "This Notebook is about Stackoverflow questions tag prediction \n",
    "- I start by importing libraries and Data \n",
    "- I make a first unsupervised approch with LDA\n",
    "- I make different approaches for feature engineering : Bag of Words and TF-IDF\n",
    "- I finally try supervised approch to classify and predict the tags"
   ]
  },
  {
   "cell_type": "markdown",
   "metadata": {},
   "source": [
    "## Libraries and frameworks"
   ]
  },
  {
   "cell_type": "code",
   "execution_count": 1,
   "metadata": {
    "scrolled": true
   },
   "outputs": [
    {
     "name": "stdout",
     "output_type": "stream",
     "text": [
      "Requirement already satisfied: tqdm in c:\\users\\ayoub\\anaconda3\\lib\\site-packages (4.32.1)\n",
      "Collecting flake8\n",
      "  Using cached https://files.pythonhosted.org/packages/f8/1f/7ea40d1e4146ea55dbab41cda1376db092a75794914169aabd7e8d7a7def/flake8-3.7.9-py2.py3-none-any.whl\n",
      "Collecting pyflakes<2.2.0,>=2.1.0 (from flake8)\n",
      "  Using cached https://files.pythonhosted.org/packages/84/f2/ed0ffb887f8138a8fe5a621b8c0bb9598bfb3989e029f6c6a85ee66628ee/pyflakes-2.1.1-py2.py3-none-any.whl\n",
      "Collecting pycodestyle<2.6.0,>=2.5.0 (from flake8)\n",
      "  Using cached https://files.pythonhosted.org/packages/0e/0c/04a353e104d2f324f8ee5f4b32012618c1c86dd79e52a433b64fceed511b/pycodestyle-2.5.0-py2.py3-none-any.whl\n",
      "Collecting mccabe<0.7.0,>=0.6.0 (from flake8)\n",
      "  Using cached https://files.pythonhosted.org/packages/87/89/479dc97e18549e21354893e4ee4ef36db1d237534982482c3681ee6e7b57/mccabe-0.6.1-py2.py3-none-any.whl\n",
      "Collecting entrypoints<0.4.0,>=0.3.0 (from flake8)\n",
      "  Using cached https://files.pythonhosted.org/packages/ac/c6/44694103f8c221443ee6b0041f69e2740d89a25641e62fb4f2ee568f2f9c/entrypoints-0.3-py2.py3-none-any.whl\n",
      "Installing collected packages: pyflakes, pycodestyle, mccabe, entrypoints, flake8\n",
      "Successfully installed entrypoints-0.3 flake8-3.7.9 mccabe-0.6.1 pycodestyle-2.5.0 pyflakes-2.1.1\n"
     ]
    },
    {
     "name": "stderr",
     "output_type": "stream",
     "text": [
      "ERROR: spyder 3.3.6 requires pyqt5<5.13; python_version >= \"3\", which is not installed.\n",
      "ERROR: spyder 3.3.6 requires pyqtwebengine<5.13; python_version >= \"3\", which is not installed.\n"
     ]
    },
    {
     "name": "stdout",
     "output_type": "stream",
     "text": [
      "Requirement already satisfied: pycodestyle_magic in c:\\users\\ayoub\\anaconda3\\lib\\site-packages (0.5)\n",
      "Requirement already satisfied: wordcloud in c:\\users\\ayoub\\anaconda3\\lib\\site-packages (1.6.0)\n",
      "Requirement already satisfied: pillow in c:\\users\\ayoub\\anaconda3\\lib\\site-packages (from wordcloud) (6.1.0)\n",
      "Requirement already satisfied: matplotlib in c:\\users\\ayoub\\anaconda3\\lib\\site-packages (from wordcloud) (3.1.0)\n",
      "Requirement already satisfied: numpy>=1.6.1 in c:\\users\\ayoub\\anaconda3\\lib\\site-packages (from wordcloud) (1.16.4)\n",
      "Requirement already satisfied: cycler>=0.10 in c:\\users\\ayoub\\anaconda3\\lib\\site-packages (from matplotlib->wordcloud) (0.10.0)\n",
      "Requirement already satisfied: kiwisolver>=1.0.1 in c:\\users\\ayoub\\anaconda3\\lib\\site-packages (from matplotlib->wordcloud) (1.1.0)\n",
      "Requirement already satisfied: pyparsing!=2.0.4,!=2.1.2,!=2.1.6,>=2.0.1 in c:\\users\\ayoub\\anaconda3\\lib\\site-packages (from matplotlib->wordcloud) (2.4.0)\n",
      "Requirement already satisfied: python-dateutil>=2.1 in c:\\users\\ayoub\\anaconda3\\lib\\site-packages (from matplotlib->wordcloud) (2.8.0)\n",
      "Requirement already satisfied: six in c:\\users\\ayoub\\anaconda3\\lib\\site-packages (from cycler>=0.10->matplotlib->wordcloud) (1.12.0)\n",
      "Requirement already satisfied: setuptools in c:\\users\\ayoub\\anaconda3\\lib\\site-packages (from kiwisolver>=1.0.1->matplotlib->wordcloud) (41.0.1)\n",
      "Requirement already satisfied: gensim in c:\\users\\ayoub\\anaconda3\\lib\\site-packages (3.8.1)\n",
      "Requirement already satisfied: six>=1.5.0 in c:\\users\\ayoub\\anaconda3\\lib\\site-packages (from gensim) (1.12.0)\n",
      "Requirement already satisfied: smart-open>=1.8.1 in c:\\users\\ayoub\\anaconda3\\lib\\site-packages (from gensim) (1.9.0)\n",
      "Requirement already satisfied: numpy>=1.11.3 in c:\\users\\ayoub\\anaconda3\\lib\\site-packages (from gensim) (1.16.4)\n",
      "Requirement already satisfied: scipy>=0.18.1 in c:\\users\\ayoub\\anaconda3\\lib\\site-packages (from gensim) (1.2.1)\n",
      "Requirement already satisfied: boto>=2.32 in c:\\users\\ayoub\\anaconda3\\lib\\site-packages (from smart-open>=1.8.1->gensim) (2.49.0)\n",
      "Requirement already satisfied: requests in c:\\users\\ayoub\\anaconda3\\lib\\site-packages (from smart-open>=1.8.1->gensim) (2.22.0)\n",
      "Requirement already satisfied: boto3 in c:\\users\\ayoub\\anaconda3\\lib\\site-packages (from smart-open>=1.8.1->gensim) (1.11.9)\n",
      "Requirement already satisfied: urllib3!=1.25.0,!=1.25.1,<1.26,>=1.21.1 in c:\\users\\ayoub\\anaconda3\\lib\\site-packages (from requests->smart-open>=1.8.1->gensim) (1.24.2)\n",
      "Requirement already satisfied: idna<2.9,>=2.5 in c:\\users\\ayoub\\anaconda3\\lib\\site-packages (from requests->smart-open>=1.8.1->gensim) (2.8)\n",
      "Requirement already satisfied: certifi>=2017.4.17 in c:\\users\\ayoub\\anaconda3\\lib\\site-packages (from requests->smart-open>=1.8.1->gensim) (2019.6.16)\n",
      "Requirement already satisfied: chardet<3.1.0,>=3.0.2 in c:\\users\\ayoub\\anaconda3\\lib\\site-packages (from requests->smart-open>=1.8.1->gensim) (3.0.4)\n",
      "Requirement already satisfied: jmespath<1.0.0,>=0.7.1 in c:\\users\\ayoub\\anaconda3\\lib\\site-packages (from boto3->smart-open>=1.8.1->gensim) (0.9.4)\n",
      "Requirement already satisfied: botocore<1.15.0,>=1.14.9 in c:\\users\\ayoub\\anaconda3\\lib\\site-packages (from boto3->smart-open>=1.8.1->gensim) (1.14.9)\n",
      "Requirement already satisfied: s3transfer<0.4.0,>=0.3.0 in c:\\users\\ayoub\\anaconda3\\lib\\site-packages (from boto3->smart-open>=1.8.1->gensim) (0.3.2)\n",
      "Requirement already satisfied: docutils<0.16,>=0.10 in c:\\users\\ayoub\\anaconda3\\lib\\site-packages (from botocore<1.15.0,>=1.14.9->boto3->smart-open>=1.8.1->gensim) (0.14)\n",
      "Requirement already satisfied: python-dateutil<3.0.0,>=2.1 in c:\\users\\ayoub\\anaconda3\\lib\\site-packages (from botocore<1.15.0,>=1.14.9->boto3->smart-open>=1.8.1->gensim) (2.8.0)\n",
      "Requirement already satisfied: pyLDAvis in c:\\users\\ayoub\\anaconda3\\lib\\site-packages (2.1.2)\n",
      "Requirement already satisfied: funcy in c:\\users\\ayoub\\anaconda3\\lib\\site-packages (from pyLDAvis) (1.14)\n",
      "Requirement already satisfied: joblib>=0.8.4 in c:\\users\\ayoub\\anaconda3\\lib\\site-packages (from pyLDAvis) (0.13.2)\n",
      "Requirement already satisfied: pandas>=0.17.0 in c:\\users\\ayoub\\anaconda3\\lib\\site-packages (from pyLDAvis) (0.24.2)\n",
      "Requirement already satisfied: future in c:\\users\\ayoub\\anaconda3\\lib\\site-packages (from pyLDAvis) (0.17.1)\n",
      "Requirement already satisfied: numexpr in c:\\users\\ayoub\\anaconda3\\lib\\site-packages (from pyLDAvis) (2.6.9)\n",
      "Requirement already satisfied: wheel>=0.23.0 in c:\\users\\ayoub\\anaconda3\\lib\\site-packages (from pyLDAvis) (0.33.4)\n",
      "Requirement already satisfied: numpy>=1.9.2 in c:\\users\\ayoub\\anaconda3\\lib\\site-packages (from pyLDAvis) (1.16.4)\n",
      "Requirement already satisfied: scipy>=0.18.0 in c:\\users\\ayoub\\anaconda3\\lib\\site-packages (from pyLDAvis) (1.2.1)\n",
      "Requirement already satisfied: jinja2>=2.7.2 in c:\\users\\ayoub\\anaconda3\\lib\\site-packages (from pyLDAvis) (2.10.1)\n",
      "Requirement already satisfied: pytest in c:\\users\\ayoub\\anaconda3\\lib\\site-packages (from pyLDAvis) (5.0.1)\n",
      "Requirement already satisfied: pytz>=2011k in c:\\users\\ayoub\\anaconda3\\lib\\site-packages (from pandas>=0.17.0->pyLDAvis) (2019.1)\n",
      "Requirement already satisfied: python-dateutil>=2.5.0 in c:\\users\\ayoub\\anaconda3\\lib\\site-packages (from pandas>=0.17.0->pyLDAvis) (2.8.0)\n",
      "Requirement already satisfied: MarkupSafe>=0.23 in c:\\users\\ayoub\\anaconda3\\lib\\site-packages (from jinja2>=2.7.2->pyLDAvis) (1.1.1)\n",
      "Requirement already satisfied: py>=1.5.0 in c:\\users\\ayoub\\anaconda3\\lib\\site-packages (from pytest->pyLDAvis) (1.8.0)\n",
      "Requirement already satisfied: packaging in c:\\users\\ayoub\\anaconda3\\lib\\site-packages (from pytest->pyLDAvis) (19.0)\n",
      "Requirement already satisfied: attrs>=17.4.0 in c:\\users\\ayoub\\anaconda3\\lib\\site-packages (from pytest->pyLDAvis) (19.1.0)\n",
      "Requirement already satisfied: more-itertools>=4.0.0 in c:\\users\\ayoub\\anaconda3\\lib\\site-packages (from pytest->pyLDAvis) (7.0.0)\n",
      "Requirement already satisfied: atomicwrites>=1.0 in c:\\users\\ayoub\\anaconda3\\lib\\site-packages (from pytest->pyLDAvis) (1.3.0)\n",
      "Requirement already satisfied: pluggy<1.0,>=0.12 in c:\\users\\ayoub\\anaconda3\\lib\\site-packages (from pytest->pyLDAvis) (0.12.0)\n",
      "Requirement already satisfied: importlib-metadata>=0.12 in c:\\users\\ayoub\\anaconda3\\lib\\site-packages (from pytest->pyLDAvis) (0.17)\n",
      "Requirement already satisfied: wcwidth in c:\\users\\ayoub\\anaconda3\\lib\\site-packages (from pytest->pyLDAvis) (0.1.7)\n",
      "Requirement already satisfied: colorama in c:\\users\\ayoub\\anaconda3\\lib\\site-packages (from pytest->pyLDAvis) (0.4.1)\n",
      "Requirement already satisfied: six>=1.5 in c:\\users\\ayoub\\anaconda3\\lib\\site-packages (from python-dateutil>=2.5.0->pandas>=0.17.0->pyLDAvis) (1.12.0)\n",
      "Requirement already satisfied: pyparsing>=2.0.2 in c:\\users\\ayoub\\anaconda3\\lib\\site-packages (from packaging->pytest->pyLDAvis) (2.4.0)\n",
      "Requirement already satisfied: zipp>=0.5 in c:\\users\\ayoub\\anaconda3\\lib\\site-packages (from importlib-metadata>=0.12->pytest->pyLDAvis) (0.5.1)\n"
     ]
    }
   ],
   "source": [
    "!pip install tqdm\n",
    "!pip install flake8 --ignore-installed\n",
    "!pip install pycodestyle_magic\n",
    "!pip install wordcloud\n",
    "!pip install gensim\n",
    "!pip install pyLDAvis"
   ]
  },
  {
   "cell_type": "code",
   "execution_count": 18,
   "metadata": {},
   "outputs": [],
   "source": [
    "import pandas as pd\n",
    "import numpy as np\n",
    "from pprint import pprint\n",
    "\n",
    "from tqdm import tqdm\n",
    "\n",
    "from bs4 import BeautifulSoup\n",
    "import nltk\n",
    "import heapq\n",
    "from sklearn.feature_extraction.text import CountVectorizer\n",
    "from sklearn.decomposition import LatentDirichletAllocation\n",
    "from sklearn.model_selection import train_test_split\n",
    "from sklearn.decomposition import SparsePCA, TruncatedSVD\n",
    "\n",
    "# Classifiers\n",
    "from sklearn.metrics import accuracy_score, confusion_matrix\n",
    "from sklearn.ensemble import RandomForestClassifier\n",
    "\n",
    "\n",
    "import scipy.sparse\n",
    "import pickle\n",
    "\n",
    "# Plotting tools\n",
    "import pyLDAvis\n",
    "import pyLDAvis.sklearn  # don't skip this\n",
    "import matplotlib as mpl\n",
    "import matplotlib.pyplot as plt\n",
    "from matplotlib import rcParams\n",
    "import matplotlib.cm as cm\n",
    "from matplotlib import pyplot as plt\n",
    "\n",
    "# Enable logging for gensim\n",
    "import logging\n",
    "logging.basicConfig(format='%(asctime)s \\\n",
    ": %(levelname)s : %(message)s', level=logging.ERROR)"
   ]
  },
  {
   "cell_type": "code",
   "execution_count": 3,
   "metadata": {},
   "outputs": [],
   "source": [
    "%load_ext pycodestyle_magic\n",
    "%pycodestyle_on\n",
    "%matplotlib inline\n",
    "\n",
    "plt.rcParams[\"patch.force_edgecolor\"] = True\n",
    "plt.style.use('fivethirtyeight')\n",
    "mpl.rc('patch', edgecolor = 'dimgray', linewidth=1)\n",
    "\n",
    "pd.set_option('display.max_rows', 100)\n",
    "pd.set_option('display.max_columns', 200)\n",
    "\n",
    "pyLDAvis.enable_notebook()"
   ]
  },
  {
   "cell_type": "markdown",
   "metadata": {},
   "source": [
    "## Data"
   ]
  },
  {
   "cell_type": "code",
   "execution_count": null,
   "metadata": {},
   "outputs": [],
   "source": [
    "df = pd.read_csv('C:/Users/ayoub/OCP6 Data/df.csv', sep=',')"
   ]
  },
  {
   "cell_type": "code",
   "execution_count": null,
   "metadata": {
    "scrolled": true
   },
   "outputs": [],
   "source": [
    "df.head()"
   ]
  },
  {
   "cell_type": "code",
   "execution_count": null,
   "metadata": {},
   "outputs": [],
   "source": [
    "df.columns"
   ]
  },
  {
   "cell_type": "code",
   "execution_count": 19,
   "metadata": {},
   "outputs": [
    {
     "name": "stderr",
     "output_type": "stream",
     "text": [
      "2020-02-02 22:18:12,624 : INFO : 4:1: E265 block comment should start with '# '\n"
     ]
    }
   ],
   "source": [
    "X_C = scipy.sparse.load_npz('C:/Users/ayoub/OCP6 Data//X_C.npz')\n",
    "X_T = scipy.sparse.load_npz('C:/Users/ayoub/OCP6 Data//X_T.npz')\n",
    "Y_C = scipy.sparse.load_npz('C:/Users/ayoub/OCP6 Data//Y_C.npz')\n",
    "#Y_T = scipy.sparse.load_npz('C:/Users/ayoub/OCP6 Data//Y_T.npz')"
   ]
  },
  {
   "cell_type": "code",
   "execution_count": null,
   "metadata": {},
   "outputs": [],
   "source": [
    "with open(\"C:/Users/ayoub/OCP6 Data/X_C_columns.txt\", \"rb\") as fp:\n",
    "    X_C_columns = pickle.load(fp)\n",
    "with open(\"C:/Users/ayoub/OCP6 Data/X_T_columns.txt\", \"rb\") as fp:\n",
    "    X_T_columns = pickle.load(fp)\n",
    "with open(\"C:/Users/ayoub/OCP6 Data/Y_C_columns.txt\", \"rb\") as fp:\n",
    "    Y_C_columns = pickle.load(fp)\n",
    "with open(\"C:/Users/ayoub/OCP6 Data/Y_T_columns.txt\", \"rb\") as fp:\n",
    "    Y_T_columns = pickle.load(fp)"
   ]
  },
  {
   "cell_type": "code",
   "execution_count": null,
   "metadata": {},
   "outputs": [],
   "source": [
    "X_C.shape, X_T.shape, Y_C.shape, Y_T.shape"
   ]
  },
  {
   "cell_type": "code",
   "execution_count": null,
   "metadata": {},
   "outputs": [],
   "source": [
    "X_C.dtype"
   ]
  },
  {
   "cell_type": "code",
   "execution_count": null,
   "metadata": {},
   "outputs": [],
   "source": [
    "pd.DataFrame(Y_T.toarray(), columns = Y_T_columns).head()"
   ]
  },
  {
   "cell_type": "markdown",
   "metadata": {},
   "source": [
    "## Unsupervised approach"
   ]
  },
  {
   "cell_type": "markdown",
   "metadata": {},
   "source": [
    "### Building the Topic Model with LDA "
   ]
  },
  {
   "cell_type": "code",
   "execution_count": null,
   "metadata": {
    "scrolled": false
   },
   "outputs": [],
   "source": [
    "Cvectorizer = CountVectorizer(tokenizer=lambda x: x.split(' '), max_df=0.5, min_df=10)\n",
    "X = Cvectorizer.fit_transform(df.sentence)"
   ]
  },
  {
   "cell_type": "code",
   "execution_count": null,
   "metadata": {},
   "outputs": [],
   "source": [
    "lda_tf = LatentDirichletAllocation(n_components=30, random_state=0)\n",
    "lda_tf.fit(X)"
   ]
  },
  {
   "cell_type": "code",
   "execution_count": null,
   "metadata": {
    "scrolled": false
   },
   "outputs": [],
   "source": [
    "data = pyLDAvis.sklearn.prepare(lda_tf, X, Cvectorizer, mds='mmds')"
   ]
  },
  {
   "cell_type": "code",
   "execution_count": null,
   "metadata": {
    "scrolled": true
   },
   "outputs": [],
   "source": [
    "pyLDAvis.show(data)"
   ]
  },
  {
   "cell_type": "markdown",
   "metadata": {},
   "source": [
    "After playing with pyLDavis, i would say that it will be complicated to do all the work and predict tags with an unsupervised approch, so I will try some classification methods"
   ]
  },
  {
   "cell_type": "markdown",
   "metadata": {},
   "source": [
    "## Supervised approach"
   ]
  },
  {
   "cell_type": "markdown",
   "metadata": {},
   "source": [
    "### with Bag Of Words"
   ]
  },
  {
   "cell_type": "markdown",
   "metadata": {},
   "source": [
    "Because of a memory problem we have to reduce "
   ]
  },
  {
   "cell_type": "code",
   "execution_count": 11,
   "metadata": {},
   "outputs": [
    {
     "data": {
      "text/plain": [
       "(103676, 31541)"
      ]
     },
     "execution_count": 11,
     "metadata": {},
     "output_type": "execute_result"
    }
   ],
   "source": [
    "X_C.shape"
   ]
  },
  {
   "cell_type": "code",
   "execution_count": 25,
   "metadata": {
    "scrolled": true
   },
   "outputs": [
    {
     "data": {
      "text/plain": [
       "TruncatedSVD(algorithm='randomized', n_components=100, n_iter=5,\n",
       "             random_state=None, tol=0.0)"
      ]
     },
     "execution_count": 25,
     "metadata": {},
     "output_type": "execute_result"
    }
   ],
   "source": [
    "svd = TruncatedSVD(n_components=100)\n",
    "svd.fit(X_C)"
   ]
  },
  {
   "cell_type": "code",
   "execution_count": null,
   "metadata": {},
   "outputs": [],
   "source": [
    "svd.explained_variance_ratio_.cumsum()"
   ]
  },
  {
   "cell_type": "code",
   "execution_count": null,
   "metadata": {},
   "outputs": [],
   "source": [
    "X_C = svd.fit_transform(X_C)"
   ]
  },
  {
   "cell_type": "code",
   "execution_count": 26,
   "metadata": {},
   "outputs": [
    {
     "data": {
      "text/plain": [
       "[<matplotlib.lines.Line2D at 0x1822df917b8>]"
      ]
     },
     "execution_count": 26,
     "metadata": {},
     "output_type": "execute_result"
    },
    {
     "data": {
      "image/png": "[encoded data removed]",
      "text/plain": [
       "<Figure size 432x288 with 1 Axes>"
      ]
     },
     "metadata": {},
     "output_type": "display_data"
    }
   ],
   "source": [
    "plt.plot(svd.explained_variance_ratio_.cumsum())"
   ]
  },
  {
   "cell_type": "code",
   "execution_count": 27,
   "metadata": {},
   "outputs": [],
   "source": [
    "svd = TruncatedSVD(n_components=100)\n",
    "X_C = svd.fit_transform(X_C)"
   ]
  },
  {
   "cell_type": "code",
   "execution_count": 32,
   "metadata": {},
   "outputs": [],
   "source": [
    "Y_C = Y_C.todense()"
   ]
  },
  {
   "cell_type": "code",
   "execution_count": null,
   "metadata": {},
   "outputs": [],
   "source": [
    "x_train, x_test, y_train, y_test = train_test_split(X_C, Y_C, test_size=0.25)"
   ]
  },
  {
   "cell_type": "markdown",
   "metadata": {},
   "source": [
    "#### Base line RF_Classifier"
   ]
  },
  {
   "cell_type": "code",
   "execution_count": 34,
   "metadata": {},
   "outputs": [],
   "source": [
    "clf = RandomForestClassifier(n_estimators=100)"
   ]
  },
  {
   "cell_type": "code",
   "execution_count": null,
   "metadata": {
    "scrolled": true
   },
   "outputs": [],
   "source": [
    "clf.fit(x_train, y_train)"
   ]
  },
  {
   "cell_type": "code",
   "execution_count": null,
   "metadata": {},
   "outputs": [],
   "source": [
    "y_pred = clf.predict(x_test)"
   ]
  },
  {
   "cell_type": "code",
   "execution_count": null,
   "metadata": {},
   "outputs": [],
   "source": [
    "print(\"Accuracy:\", accuracy_score(y_test, y_pred))"
   ]
  },
  {
   "cell_type": "code",
   "execution_count": null,
   "metadata": {},
   "outputs": [],
   "source": []
  },
  {
   "cell_type": "code",
   "execution_count": null,
   "metadata": {},
   "outputs": [],
   "source": [
    "m = confusion_matrix(y_test, y_pred)\n",
    "\n",
    "fig, ax = plt.subplots(figsize=(8, 8))\n",
    "ax = sns.heatmap(m, annot=True, fmt='d', cmap='YlGnBu')"
   ]
  },
  {
   "cell_type": "code",
   "execution_count": null,
   "metadata": {},
   "outputs": [],
   "source": []
  },
  {
   "cell_type": "code",
   "execution_count": null,
   "metadata": {},
   "outputs": [],
   "source": [
    "y.head()"
   ]
  },
  {
   "cell_type": "code",
   "execution_count": null,
   "metadata": {},
   "outputs": [],
   "source": []
  },
  {
   "cell_type": "code",
   "execution_count": null,
   "metadata": {
    "scrolled": true
   },
   "outputs": [],
   "source": [
    "x = pd.DataFrame(X_C.toarray(), columns = X_C_columns)\n",
    "y = pd.DataFrame(Y_C.toarray(), columns = Y_C_columns)"
   ]
  },
  {
   "cell_type": "code",
   "execution_count": null,
   "metadata": {},
   "outputs": [],
   "source": [
    "x_train, x_test, y_train, y_test = train_test_split(x, y, test_size = 0.25)"
   ]
  },
  {
   "cell_type": "code",
   "execution_count": null,
   "metadata": {},
   "outputs": [],
   "source": [
    "clf.fit(x_train, y_train)"
   ]
  },
  {
   "cell_type": "code",
   "execution_count": null,
   "metadata": {},
   "outputs": [],
   "source": [
    "y_pred = clf.predict(x_test)"
   ]
  },
  {
   "cell_type": "code",
   "execution_count": null,
   "metadata": {},
   "outputs": [],
   "source": [
    "x_test.shape"
   ]
  },
  {
   "cell_type": "code",
   "execution_count": null,
   "metadata": {},
   "outputs": [],
   "source": [
    "y_pred.shape"
   ]
  },
  {
   "cell_type": "code",
   "execution_count": null,
   "metadata": {},
   "outputs": [],
   "source": [
    "print(\"Accuracy:\", accuracy_score(y_test, y_pred))"
   ]
  },
  {
   "cell_type": "code",
   "execution_count": null,
   "metadata": {},
   "outputs": [],
   "source": [
    "m = confusion_matrix(y_test, y_pred)\n",
    "\n",
    "fig, ax = plt.subplots(figsize=(8, 8))\n",
    "ax = sns.heatmap(m, annot=True, fmt='d', cmap='YlGnBu')"
   ]
  },
  {
   "cell_type": "code",
   "execution_count": null,
   "metadata": {},
   "outputs": [],
   "source": []
  },
  {
   "cell_type": "markdown",
   "metadata": {},
   "source": [
    "### with TF_IDF"
   ]
  },
  {
   "cell_type": "code",
   "execution_count": null,
   "metadata": {},
   "outputs": [],
   "source": [
    "xt_train, xt_test, yt_train, yt_test = train_test_split(X_T, Y_C, test_size=0.25)"
   ]
  },
  {
   "cell_type": "code",
   "execution_count": null,
   "metadata": {},
   "outputs": [],
   "source": []
  },
  {
   "cell_type": "code",
   "execution_count": null,
   "metadata": {},
   "outputs": [],
   "source": []
  },
  {
   "cell_type": "code",
   "execution_count": null,
   "metadata": {},
   "outputs": [],
   "source": []
  },
  {
   "cell_type": "markdown",
   "metadata": {},
   "source": [
    "# Brouillon"
   ]
  },
  {
   "cell_type": "code",
   "execution_count": null,
   "metadata": {},
   "outputs": [],
   "source": []
  },
  {
   "cell_type": "code",
   "execution_count": null,
   "metadata": {},
   "outputs": [],
   "source": [
    "Cvectorizer = CountVectorizer(tokenizer=lambda x: x.split(' '), max_df=0.5, min_df=10)\n",
    "X = Cvectorizer.fit_transform(df_test.sentence)"
   ]
  },
  {
   "cell_type": "code",
   "execution_count": null,
   "metadata": {},
   "outputs": [],
   "source": [
    "lda_tf = LatentDirichletAllocation(n_components=30, random_state=0)\n",
    "lda_tf.fit(X)"
   ]
  },
  {
   "cell_type": "code",
   "execution_count": null,
   "metadata": {},
   "outputs": [],
   "source": [
    "pyLDAvis.sklearn.prepare(lda_tf, X, Cvectorizer, mds='mmds')"
   ]
  },
  {
   "cell_type": "code",
   "execution_count": null,
   "metadata": {},
   "outputs": [],
   "source": []
  }
 ],
 "metadata": {
  "kernelspec": {
   "display_name": "Python 3",
   "language": "python",
   "name": "python3"
  },
  "language_info": {
   "codemirror_mode": {
    "name": "ipython",
    "version": 3
   },
   "file_extension": ".py",
   "mimetype": "text/x-python",
   "name": "python",
   "nbconvert_exporter": "python",
   "pygments_lexer": "ipython3",
   "version": "3.7.3"
  }
 },
 "nbformat": 4,
 "nbformat_minor": 2
}
