{
 "cells": [
  {
   "cell_type": "code",
   "execution_count": 72,
   "metadata": {},
   "outputs": [],
   "source": [
    "# Bibliothèques\n",
    "import pandas as pd\n",
    "import scipy.sparse\n",
    "import pickle\n",
    "import nltk\n",
    "from nltk.tokenize.treebank import TreebankWordDetokenizer\n",
    "from bs4 import BeautifulSoup"
   ]
  },
  {
   "cell_type": "code",
   "execution_count": 73,
   "metadata": {},
   "outputs": [],
   "source": [
    "# fonction pour le TF_IDF_Vectorize\n",
    "def text_splitter(text):\n",
    "    return text.split(' ')"
   ]
  },
  {
   "cell_type": "code",
   "execution_count": 74,
   "metadata": {},
   "outputs": [],
   "source": [
    "# Modèles et données\n",
    "\n",
    "# tokenizer, lemmatizer and stemmer model\n",
    "with open('C:/Users/ayoub/OCP6 Data/tokenizer.pk', 'rb') as fp:\n",
    "    tokenizer = pickle.load(fp)\n",
    "with open('C:/Users/ayoub/OCP6 Data/lemmatizer.pk', 'rb') as fp:\n",
    "    lemmatizer = pickle.load(fp)\n",
    "with open('C:/Users/ayoub/OCP6 Data/p_stemmer.pk', 'rb') as fp:\n",
    "    p_stemmer = pickle.load(fp)\n",
    "\n",
    "# NLTK STOPWORDS\n",
    "engstpw = nltk.corpus.stopwords.words('english')\n",
    "\n",
    "# bigram and trigram models\n",
    "with open('C:/Users/ayoub/OCP6 Data/bigram_mod.pk', 'rb') as fp:\n",
    "    bigram_mod = pickle.load(fp)\n",
    "with open('C:/Users/ayoub/OCP6 Data/trigram_mod.pk', 'rb') as fp:\n",
    "    trigram_mod = pickle.load(fp)\n",
    "\n",
    "# TF_IDF_vectorizer\n",
    "with open('C:/Users/ayoub/OCP6 Data/Tvectorizer.pk', 'rb') as fp:\n",
    "    Tvectorizer = pickle.load(fp)\n",
    "\n",
    "# MultiLabelBinarizer\n",
    "with open('C:/Users/ayoub/OCP6 Data/mlb_object.pk', 'rb') as fp:\n",
    "    mlb_object = pickle.load(fp)\n",
    "\n",
    "# Dimensions reduction\n",
    "with open('C:/Users/ayoub/OCP6 Data/svdt.sav', 'rb') as fp:\n",
    "    svdt = pickle.load(fp)\n",
    "\n",
    "# Classifier\n",
    "with open('C:/Users/ayoub/OCP6 Data/sgd_clf.sav', 'rb') as fp:\n",
    "    sgd_clf = pickle.load(fp)\n"
   ]
  },
  {
   "cell_type": "code",
   "execution_count": 75,
   "metadata": {},
   "outputs": [],
   "source": [
    "# main function with html input\n",
    "def predict(question):\n",
    "    \n",
    "    q = BeautifulSoup(question, 'lxml').text\n",
    "    q = tokenizer.tokenize(q.lower())\n",
    "    q = [token for token in q if token not in engstpw]\n",
    "    q = [lemmatizer.lemmatize(token) for token in q]\n",
    "    q = [p_stemmer.stem(token) for token in q]    \n",
    "    q = trigram_mod[bigram_mod[q]]\n",
    "    q = Tvectorizer.transform([TreebankWordDetokenizer().detokenize(q)])\n",
    "    q = svdt.transform(q)\n",
    "    q = scipy.sparse.csr_matrix(q)\n",
    "    q = sgd_clf.predict(q)\n",
    "    q = mlb_object.inverse_transform(q)\n",
    "    \n",
    "    return(q)\n"
   ]
  },
  {
   "cell_type": "code",
   "execution_count": 112,
   "metadata": {},
   "outputs": [],
   "source": [
    "import json"
   ]
  },
  {
   "cell_type": "code",
   "execution_count": 113,
   "metadata": {},
   "outputs": [
    {
     "data": {
      "text/plain": [
       "'[[\"css\", \"internet-explorer\", \"internet-explorer-7\"]]'"
      ]
     },
     "execution_count": 113,
     "metadata": {},
     "output_type": "execute_result"
    }
   ],
   "source": [
    "json.dumps([('css', 'internet-explorer', 'internet-explorer-7')])"
   ]
  },
  {
   "cell_type": "code",
   "execution_count": 114,
   "metadata": {},
   "outputs": [],
   "source": [
    "# main function with a string input\n",
    "def predict2(question):\n",
    "    \n",
    "    q = question\n",
    "    q = tokenizer.tokenize(q.lower())\n",
    "    q = [token for token in q if token not in engstpw]\n",
    "    q = [lemmatizer.lemmatize(token) for token in q]\n",
    "    q = [p_stemmer.stem(token) for token in q]    \n",
    "    q = trigram_mod[bigram_mod[q]]\n",
    "    q = Tvectorizer.transform([TreebankWordDetokenizer().detokenize(q)])\n",
    "    q = svdt.transform(q)\n",
    "    q = scipy.sparse.csr_matrix(q)\n",
    "    q = sgd_clf.predict(q)\n",
    "    q = mlb_object.inverse_transform(q)\n",
    "    \n",
    "    return(json.dumps(q))\n"
   ]
  },
  {
   "cell_type": "code",
   "execution_count": null,
   "metadata": {},
   "outputs": [
    {
     "name": "stdout",
     "output_type": "stream",
     "text": [
      " * Serving Flask app \"__main__\" (lazy loading)\n",
      " * Environment: production\n",
      "   WARNING: This is a development server. Do not use it in a production deployment.\n",
      "   Use a production WSGI server instead.\n",
      " * Debug mode: off\n"
     ]
    },
    {
     "name": "stderr",
     "output_type": "stream",
     "text": [
      " * Running on http://127.0.0.1:5000/ (Press CTRL+C to quit)\n",
      "127.0.0.1 - - [20/Feb/2020 13:21:37] \"GET /predict_tags/?question=Percentage%20width%20child%20element%20in%20absolutely%20positioned%20parent%20on%20Internet%20Explorer%207I%20have%20an%20absolutely%20positioned%20div%20containing%20several%20children,%20one%20of%20which%20is%20a%20relatively%20positioned%20div.%20When%20I%20use%20a%20percentage-based%20width%20on%20the%20child%20div,%20it%20collapses%20to%200%20width%20on%20IE7,%20but%20not%20on%20Firefox%20or%20Safari.\\nIf%20I%20use%20pixel%20width,%20it%20works.%20If%20the%20parent%20is%20relatively%20positioned,%20the%20percentage%20width%20on%20the%20child%20works.\\n\\nIs%20there%20something%20I%27m%20missing%20here?\\nIs%20there%20an%20easy%20fix%20for%20this%20besides%20the%20pixel-based%20width%20on%20the\\nchild?\\nIs%20there%20an%20area%20of%20the%20CSS%20specification%20that%20covers%20this?\\n\\n HTTP/1.1\" 200 -\n"
     ]
    }
   ],
   "source": [
    "import flask\n",
    "from flask import request, jsonify\n",
    "\n",
    "app = flask.Flask(__name__)\n",
    "\n",
    "# Create some test data for our catalog in the form of a list of dictionaries.\n",
    "\n",
    "\n",
    "@app.route('/predict_tags/', methods=['GET'])\n",
    "def home():\n",
    "    data = request.args\n",
    "    question = data['question']\n",
    "    return predict2(question)\n",
    "\n",
    "app.run()"
   ]
  },
  {
   "cell_type": "code",
   "execution_count": null,
   "metadata": {},
   "outputs": [],
   "source": []
  },
  {
   "cell_type": "code",
   "execution_count": null,
   "metadata": {},
   "outputs": [],
   "source": []
  },
  {
   "cell_type": "markdown",
   "metadata": {},
   "source": [
    "## test"
   ]
  },
  {
   "cell_type": "code",
   "execution_count": 76,
   "metadata": {},
   "outputs": [],
   "source": [
    "df1 = pd.read_csv('C:/Users/ayoub/OCP6 Data/ndf1.csv')"
   ]
  },
  {
   "cell_type": "code",
   "execution_count": 77,
   "metadata": {},
   "outputs": [],
   "source": [
    "question = df1.iloc[1].Title + df1.iloc[1].Body"
   ]
  },
  {
   "cell_type": "code",
   "execution_count": 80,
   "metadata": {},
   "outputs": [
    {
     "data": {
      "text/plain": [
       "\"Percentage width child element in absolutely positioned parent on Internet Explorer 7I have an absolutely positioned div containing several children, one of which is a relatively positioned div. When I use a percentage-based width on the child div, it collapses to 0 width on IE7, but not on Firefox or Safari.\\nIf I use pixel width, it works. If the parent is relatively positioned, the percentage width on the child works.\\n\\nIs there something I'm missing here?\\nIs there an easy fix for this besides the pixel-based width on the\\nchild?\\nIs there an area of the CSS specification that covers this?\\n\\n\""
      ]
     },
     "execution_count": 80,
     "metadata": {},
     "output_type": "execute_result"
    }
   ],
   "source": [
    "BeautifulSoup(question, 'lxml').text"
   ]
  },
  {
   "cell_type": "code",
   "execution_count": 79,
   "metadata": {},
   "outputs": [
    {
     "data": {
      "text/plain": [
       "[('css', 'internet-explorer', 'internet-explorer-7')]"
      ]
     },
     "execution_count": 79,
     "metadata": {},
     "output_type": "execute_result"
    }
   ],
   "source": [
    "predict(question)"
   ]
  },
  {
   "cell_type": "code",
   "execution_count": 85,
   "metadata": {},
   "outputs": [
    {
     "data": {
      "text/plain": [
       "'<html><css><internet-explorer-7>'"
      ]
     },
     "execution_count": 85,
     "metadata": {},
     "output_type": "execute_result"
    }
   ],
   "source": [
    "df1.iloc[1].Tags"
   ]
  },
  {
   "cell_type": "code",
   "execution_count": null,
   "metadata": {},
   "outputs": [],
   "source": []
  },
  {
   "cell_type": "code",
   "execution_count": 81,
   "metadata": {},
   "outputs": [],
   "source": [
    "question2 = df1.iloc[500].Title + df1.iloc[500].Body"
   ]
  },
  {
   "cell_type": "code",
   "execution_count": 82,
   "metadata": {},
   "outputs": [
    {
     "data": {
      "text/plain": [
       "'How to pass a comma separated list to a stored procedure?So I have a Sybase stored proc that takes 1 parameter that\\'s a comma separated list of strings and runs a query with in in an IN() clause:\\nCREATE PROCEDURE getSomething @keyList varchar(4096)\\nAS\\nSELECT * FROM mytbl WHERE name IN (@keyList)\\n\\nHow do I call my stored proc with more than 1 value in the list?\\nSo far I\\'ve tried \\nexec getSomething \\'John\\'         -- works but only 1 value\\nexec getSomething \\'John\\',\\'Tom\\'   -- doesn\\'t work - expects two variables\\nexec getSomething \"\\'John\\',\\'Tom\\'\" -- doesn\\'t work - doesn\\'t find anything\\nexec getSomething \\'\"John\",\"Tom\"\\' -- doesn\\'t work - doesn\\'t find anything\\nexec getSomething \\'\\\\\\'John\\\\\\',\\\\\\'Tom\\\\\\'\\' -- doesn\\'t work - syntax error\\n\\nEDIT: I actually found this page that has a great reference of the various ways to pas an array to a sproc\\n'"
      ]
     },
     "execution_count": 82,
     "metadata": {},
     "output_type": "execute_result"
    }
   ],
   "source": [
    "BeautifulSoup(question2, 'lxml').text"
   ]
  },
  {
   "cell_type": "code",
   "execution_count": 83,
   "metadata": {},
   "outputs": [
    {
     "data": {
      "text/plain": [
       "[('sql', 'sybase-ase')]"
      ]
     },
     "execution_count": 83,
     "metadata": {},
     "output_type": "execute_result"
    }
   ],
   "source": [
    "predict(question2)"
   ]
  },
  {
   "cell_type": "code",
   "execution_count": 86,
   "metadata": {},
   "outputs": [
    {
     "data": {
      "text/plain": [
       "'<sql><sybase-ase>'"
      ]
     },
     "execution_count": 86,
     "metadata": {},
     "output_type": "execute_result"
    }
   ],
   "source": [
    "df1.iloc[500].Tags"
   ]
  },
  {
   "cell_type": "code",
   "execution_count": null,
   "metadata": {},
   "outputs": [],
   "source": []
  },
  {
   "cell_type": "code",
   "execution_count": null,
   "metadata": {},
   "outputs": [],
   "source": []
  },
  {
   "cell_type": "code",
   "execution_count": null,
   "metadata": {},
   "outputs": [],
   "source": []
  },
  {
   "cell_type": "code",
   "execution_count": null,
   "metadata": {},
   "outputs": [],
   "source": []
  },
  {
   "cell_type": "code",
   "execution_count": null,
   "metadata": {},
   "outputs": [],
   "source": []
  }
 ],
 "metadata": {
  "kernelspec": {
   "display_name": "Python 3",
   "language": "python",
   "name": "python3"
  },
  "language_info": {
   "codemirror_mode": {
    "name": "ipython",
    "version": 3
   },
   "file_extension": ".py",
   "mimetype": "text/x-python",
   "name": "python",
   "nbconvert_exporter": "python",
   "pygments_lexer": "ipython3",
   "version": "3.7.3"
  }
 },
 "nbformat": 4,
 "nbformat_minor": 2
}
