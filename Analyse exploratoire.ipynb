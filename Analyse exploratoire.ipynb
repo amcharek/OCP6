{
 "cells": [
  {
   "cell_type": "markdown",
   "metadata": {},
   "source": [
    "# StackExchange questions and Tags - Analysis"
   ]
  },
  {
   "cell_type": "markdown",
   "metadata": {},
   "source": [
    "This Notebook is about Stackoverflow questions analysis in the goal of feature extraction and tagging\n",
    "- I will start by importing libraries and Data "
   ]
  },
  {
   "cell_type": "markdown",
   "metadata": {},
   "source": [
    "## Libraries and frameworks"
   ]
  },
  {
   "cell_type": "code",
   "execution_count": 2,
   "metadata": {
    "scrolled": true
   },
   "outputs": [
    {
     "name": "stdout",
     "output_type": "stream",
     "text": [
      "Requirement already satisfied: tqdm in c:\\users\\ayoub\\anaconda3\\lib\\site-packages (4.32.1)\n",
      "Collecting flake8\n",
      "  Using cached https://files.pythonhosted.org/packages/f8/1f/7ea40d1e4146ea55dbab41cda1376db092a75794914169aabd7e8d7a7def/flake8-3.7.9-py2.py3-none-any.whl\n",
      "Collecting entrypoints<0.4.0,>=0.3.0 (from flake8)\n",
      "  Using cached https://files.pythonhosted.org/packages/ac/c6/44694103f8c221443ee6b0041f69e2740d89a25641e62fb4f2ee568f2f9c/entrypoints-0.3-py2.py3-none-any.whl\n",
      "Collecting pyflakes<2.2.0,>=2.1.0 (from flake8)\n",
      "  Using cached https://files.pythonhosted.org/packages/84/f2/ed0ffb887f8138a8fe5a621b8c0bb9598bfb3989e029f6c6a85ee66628ee/pyflakes-2.1.1-py2.py3-none-any.whl\n",
      "Collecting pycodestyle<2.6.0,>=2.5.0 (from flake8)\n",
      "  Using cached https://files.pythonhosted.org/packages/0e/0c/04a353e104d2f324f8ee5f4b32012618c1c86dd79e52a433b64fceed511b/pycodestyle-2.5.0-py2.py3-none-any.whl\n",
      "Collecting mccabe<0.7.0,>=0.6.0 (from flake8)\n",
      "  Using cached https://files.pythonhosted.org/packages/87/89/479dc97e18549e21354893e4ee4ef36db1d237534982482c3681ee6e7b57/mccabe-0.6.1-py2.py3-none-any.whl\n",
      "Installing collected packages: entrypoints, pyflakes, pycodestyle, mccabe, flake8\n",
      "Successfully installed entrypoints-0.3 flake8-3.7.9 mccabe-0.6.1 pycodestyle-2.5.0 pyflakes-2.1.1\n"
     ]
    },
    {
     "name": "stderr",
     "output_type": "stream",
     "text": [
      "ERROR: spyder 3.3.6 requires pyqt5<5.13; python_version >= \"3\", which is not installed.\n",
      "ERROR: spyder 3.3.6 requires pyqtwebengine<5.13; python_version >= \"3\", which is not installed.\n"
     ]
    },
    {
     "name": "stdout",
     "output_type": "stream",
     "text": [
      "Requirement already satisfied: pycodestyle_magic in c:\\users\\ayoub\\anaconda3\\lib\\site-packages (0.5)\n",
      "Requirement already satisfied: wordcloud in c:\\users\\ayoub\\anaconda3\\lib\\site-packages (1.6.0)\n",
      "Requirement already satisfied: matplotlib in c:\\users\\ayoub\\anaconda3\\lib\\site-packages (from wordcloud) (3.1.0)\n",
      "Requirement already satisfied: numpy>=1.6.1 in c:\\users\\ayoub\\anaconda3\\lib\\site-packages (from wordcloud) (1.16.4)\n",
      "Requirement already satisfied: pillow in c:\\users\\ayoub\\anaconda3\\lib\\site-packages (from wordcloud) (6.1.0)\n",
      "Requirement already satisfied: cycler>=0.10 in c:\\users\\ayoub\\anaconda3\\lib\\site-packages (from matplotlib->wordcloud) (0.10.0)\n",
      "Requirement already satisfied: kiwisolver>=1.0.1 in c:\\users\\ayoub\\anaconda3\\lib\\site-packages (from matplotlib->wordcloud) (1.1.0)\n",
      "Requirement already satisfied: pyparsing!=2.0.4,!=2.1.2,!=2.1.6,>=2.0.1 in c:\\users\\ayoub\\anaconda3\\lib\\site-packages (from matplotlib->wordcloud) (2.4.0)\n",
      "Requirement already satisfied: python-dateutil>=2.1 in c:\\users\\ayoub\\anaconda3\\lib\\site-packages (from matplotlib->wordcloud) (2.8.0)\n",
      "Requirement already satisfied: six in c:\\users\\ayoub\\anaconda3\\lib\\site-packages (from cycler>=0.10->matplotlib->wordcloud) (1.12.0)\n",
      "Requirement already satisfied: setuptools in c:\\users\\ayoub\\anaconda3\\lib\\site-packages (from kiwisolver>=1.0.1->matplotlib->wordcloud) (41.0.1)\n"
     ]
    }
   ],
   "source": [
    "!pip install tqdm\n",
    "!pip install flake8 --ignore-installed\n",
    "!pip install pycodestyle_magic\n",
    "!pip install wordcloud"
   ]
  },
  {
   "cell_type": "code",
   "execution_count": 3,
   "metadata": {},
   "outputs": [],
   "source": [
    "import pandas as pd\n",
    "from matplotlib import pyplot as plt\n",
    "import matplotlib as mpl\n",
    "from matplotlib import rcParams\n",
    "import matplotlib.cm as cm\n",
    "\n",
    "from tqdm import tqdm\n",
    "\n",
    "from wordcloud import WordCloud, STOPWORDS\n",
    "from bs4 import BeautifulSoup\n",
    "import nltk\n",
    "import re"
   ]
  },
  {
   "cell_type": "code",
   "execution_count": 25,
   "metadata": {},
   "outputs": [
    {
     "name": "stderr",
     "output_type": "stream",
     "text": [
      "[nltk_data] Downloading package punkt to\n",
      "[nltk_data]     C:\\Users\\ayoub\\AppData\\Roaming\\nltk_data...\n",
      "[nltk_data]   Package punkt is already up-to-date!\n"
     ]
    },
    {
     "data": {
      "text/plain": [
       "True"
      ]
     },
     "execution_count": 25,
     "metadata": {},
     "output_type": "execute_result"
    }
   ],
   "source": [
    "nltk.download('punkt')"
   ]
  },
  {
   "cell_type": "code",
   "execution_count": 4,
   "metadata": {},
   "outputs": [],
   "source": [
    "%load_ext pycodestyle_magic\n",
    "%pycodestyle_on\n",
    "%matplotlib inline\n",
    "\n",
    "plt.rcParams[\"patch.force_edgecolor\"] = True\n",
    "plt.style.use('fivethirtyeight')\n",
    "mpl.rc('patch', edgecolor = 'dimgray', linewidth=1)\n",
    "\n",
    "pd.set_option('display.max_rows', 100)\n",
    "pd.set_option('display.max_columns', 200)"
   ]
  },
  {
   "cell_type": "markdown",
   "metadata": {},
   "source": [
    "## Data import"
   ]
  },
  {
   "cell_type": "code",
   "execution_count": 5,
   "metadata": {},
   "outputs": [],
   "source": [
    "df1 = pd.read_csv('C:/Users/ayoub/OCP6 Data/df1.csv')\n",
    "df2 = pd.read_csv('C:/Users/ayoub/OCP6 Data/df2.csv')"
   ]
  },
  {
   "cell_type": "code",
   "execution_count": 6,
   "metadata": {},
   "outputs": [],
   "source": [
    "df = pd.concat([df1, df2])"
   ]
  },
  {
   "cell_type": "code",
   "execution_count": 7,
   "metadata": {},
   "outputs": [
    {
     "data": {
      "text/plain": [
       "Text(0.5, 1.0, 'Proportion of NaNs in each column')"
      ]
     },
     "execution_count": 7,
     "metadata": {},
     "output_type": "execute_result"
    },
    {
     "data": {
      "image/png": "[encoded data removed]",
      "text/plain": [
       "<Figure size 720x360 with 1 Axes>"
      ]
     },
     "metadata": {},
     "output_type": "display_data"
    }
   ],
   "source": [
    "plt.figure(figsize=(10, 5))\n",
    "df.isnull().mean(axis=0).sort_values().plot.barh()\n",
    "plt.title(\"Proportion of NaNs in each column\")"
   ]
  },
  {
   "cell_type": "code",
   "execution_count": 8,
   "metadata": {},
   "outputs": [],
   "source": [
    "df.drop(['ID'], axis=1, inplace=True)\n",
    "df.dropna(subset=['Title'], inplace=True)\n",
    "df.reset_index(drop=True, inplace=True)"
   ]
  },
  {
   "cell_type": "markdown",
   "metadata": {},
   "source": [
    "## Cleaning and Feature engineering"
   ]
  },
  {
   "cell_type": "markdown",
   "metadata": {},
   "source": [
    "In this part, I am going to transform th Body which is in html code format into text with BeautifulSoup"
   ]
  },
  {
   "cell_type": "code",
   "execution_count": 9,
   "metadata": {},
   "outputs": [],
   "source": [
    "def html(code):\n",
    "    return BeautifulSoup(code, 'lxml').text"
   ]
  },
  {
   "cell_type": "code",
   "execution_count": 10,
   "metadata": {},
   "outputs": [],
   "source": [
    "df['Body'] = df.Body.apply(html)"
   ]
  },
  {
   "cell_type": "code",
   "execution_count": 11,
   "metadata": {
    "scrolled": true
   },
   "outputs": [
    {
     "data": {
      "text/plain": [
       "\"I want to use a track-bar to change a form's opacity.\\nThis is my code:\\ndecimal trans = trackBar1.Value / 5000;\\nthis.Opacity = trans;\\n\\nWhen I build the application, it gives the following error:\\n\\nCannot implicitly convert type decimal to double\\n\\nI tried using trans and double but then the control doesn't work. This code worked fine in a past VB.NET project.\\n\""
      ]
     },
     "execution_count": 11,
     "metadata": {},
     "output_type": "execute_result"
    }
   ],
   "source": [
    "df.Body[0]"
   ]
  },
  {
   "cell_type": "code",
   "execution_count": 12,
   "metadata": {},
   "outputs": [],
   "source": [
    "tokenizer = nltk.RegexpTokenizer(r'\\w+')"
   ]
  },
  {
   "cell_type": "code",
   "execution_count": 13,
   "metadata": {},
   "outputs": [
    {
     "name": "stderr",
     "output_type": "stream",
     "text": [
      "100%|██████████| 99999/99999 [00:04<00:00, 23408.00it/s]\n"
     ]
    }
   ],
   "source": [
    "# Create a list to store the body data\n",
    "tokens = []\n",
    "\n",
    "# For each row in the column,\n",
    "for row in tqdm(df['Body']):\n",
    "    tokens.append(tokenizer.tokenize(row))\n",
    "\n",
    "# Create a column from the list\n",
    "df['tokens'] = tokens"
   ]
  },
  {
   "cell_type": "code",
   "execution_count": 28,
   "metadata": {},
   "outputs": [
    {
     "name": "stderr",
     "output_type": "stream",
     "text": [
      "100%|██████████| 99999/99999 [00:00<00:00, 273222.78it/s]\n"
     ]
    }
   ],
   "source": [
    "# Create a list to store the body data\n",
    "ttokens = []\n",
    "\n",
    "# For each row in the column,\n",
    "for row in tqdm(df['Title']):\n",
    "    ttokens.append(tokenizer.tokenize(row))\n",
    "\n",
    "# Create a column from the list\n",
    "df['title_tokens'] = ttokens"
   ]
  },
  {
   "cell_type": "code",
   "execution_count": 31,
   "metadata": {},
   "outputs": [
    {
     "name": "stderr",
     "output_type": "stream",
     "text": [
      "100%|██████████| 99999/99999 [00:08<00:00, 12091.73it/s]\n",
      "6:36: E502 the backslash is redundant between brackets\n",
      "7:80: E501 line too long (93 > 79 characters)\n"
     ]
    }
   ],
   "source": [
    "# Create a list to store the body data\n",
    "tags = []\n",
    "\n",
    "# For each row in the column,\n",
    "for row in tqdm(df['Tags']):\n",
    "    tags.append(nltk.word_tokenize(\\\n",
    "                                   re.sub('<', '', re.sub('>', '', re.sub('><', ' ', row)))))\n",
    "\n",
    "# Create a column from the list\n",
    "df['tags'] = tags"
   ]
  },
  {
   "cell_type": "code",
   "execution_count": 32,
   "metadata": {
    "scrolled": false
   },
   "outputs": [
    {
     "data": {
      "text/html": [
       "<div>\n",
       "<style scoped>\n",
       "    .dataframe tbody tr th:only-of-type {\n",
       "        vertical-align: middle;\n",
       "    }\n",
       "\n",
       "    .dataframe tbody tr th {\n",
       "        vertical-align: top;\n",
       "    }\n",
       "\n",
       "    .dataframe thead th {\n",
       "        text-align: right;\n",
       "    }\n",
       "</style>\n",
       "<table border=\"1\" class=\"dataframe\">\n",
       "  <thead>\n",
       "    <tr style=\"text-align: right;\">\n",
       "      <th></th>\n",
       "      <th>Body</th>\n",
       "      <th>Title</th>\n",
       "      <th>Tags</th>\n",
       "      <th>tokens</th>\n",
       "      <th>title_tokens</th>\n",
       "      <th>tags</th>\n",
       "    </tr>\n",
       "  </thead>\n",
       "  <tbody>\n",
       "    <tr>\n",
       "      <th>0</th>\n",
       "      <td>I want to use a track-bar to change a form's o...</td>\n",
       "      <td>Convert Decimal to Double</td>\n",
       "      <td>&lt;c#&gt;&lt;floating-point&gt;&lt;type-conversion&gt;&lt;double&gt;&lt;...</td>\n",
       "      <td>[I, want, to, use, a, track, bar, to, change, ...</td>\n",
       "      <td>[Convert, Decimal, to, Double]</td>\n",
       "      <td>[c, #, floating-point, type-conversion, double...</td>\n",
       "    </tr>\n",
       "    <tr>\n",
       "      <th>1</th>\n",
       "      <td>I have an absolutely positioned div containing...</td>\n",
       "      <td>Percentage width child element in absolutely p...</td>\n",
       "      <td>&lt;html&gt;&lt;css&gt;&lt;internet-explorer-7&gt;</td>\n",
       "      <td>[I, have, an, absolutely, positioned, div, con...</td>\n",
       "      <td>[Percentage, width, child, element, in, absolu...</td>\n",
       "      <td>[html, css, internet-explorer-7]</td>\n",
       "    </tr>\n",
       "    <tr>\n",
       "      <th>2</th>\n",
       "      <td>Given a DateTime representing a person's birth...</td>\n",
       "      <td>How do I calculate someone's age in C#?</td>\n",
       "      <td>&lt;c#&gt;&lt;.net&gt;&lt;datetime&gt;</td>\n",
       "      <td>[Given, a, DateTime, representing, a, person, ...</td>\n",
       "      <td>[How, do, I, calculate, someone, s, age, in, C]</td>\n",
       "      <td>[c, #, .net, datetime]</td>\n",
       "    </tr>\n",
       "    <tr>\n",
       "      <th>3</th>\n",
       "      <td>Given a specific DateTime value, how do I disp...</td>\n",
       "      <td>Calculate relative time in C#</td>\n",
       "      <td>&lt;c#&gt;&lt;datetime&gt;&lt;time&gt;&lt;datediff&gt;&lt;relative-time-s...</td>\n",
       "      <td>[Given, a, specific, DateTime, value, how, do,...</td>\n",
       "      <td>[Calculate, relative, time, in, C]</td>\n",
       "      <td>[c, #, datetime, time, datediff, relative-time...</td>\n",
       "    </tr>\n",
       "    <tr>\n",
       "      <th>4</th>\n",
       "      <td>Is there a standard way for a web server to be...</td>\n",
       "      <td>Determine a user's timezone</td>\n",
       "      <td>&lt;html&gt;&lt;browser&gt;&lt;timezone&gt;&lt;user-agent&gt;&lt;timezone...</td>\n",
       "      <td>[Is, there, a, standard, way, for, a, web, ser...</td>\n",
       "      <td>[Determine, a, user, s, timezone]</td>\n",
       "      <td>[html, browser, timezone, user-agent, timezone...</td>\n",
       "    </tr>\n",
       "  </tbody>\n",
       "</table>\n",
       "</div>"
      ],
      "text/plain": [
       "                                                Body  \\\n",
       "0  I want to use a track-bar to change a form's o...   \n",
       "1  I have an absolutely positioned div containing...   \n",
       "2  Given a DateTime representing a person's birth...   \n",
       "3  Given a specific DateTime value, how do I disp...   \n",
       "4  Is there a standard way for a web server to be...   \n",
       "\n",
       "                                               Title  \\\n",
       "0                          Convert Decimal to Double   \n",
       "1  Percentage width child element in absolutely p...   \n",
       "2            How do I calculate someone's age in C#?   \n",
       "3                      Calculate relative time in C#   \n",
       "4                        Determine a user's timezone   \n",
       "\n",
       "                                                Tags  \\\n",
       "0  <c#><floating-point><type-conversion><double><...   \n",
       "1                   <html><css><internet-explorer-7>   \n",
       "2                               <c#><.net><datetime>   \n",
       "3  <c#><datetime><time><datediff><relative-time-s...   \n",
       "4  <html><browser><timezone><user-agent><timezone...   \n",
       "\n",
       "                                              tokens  \\\n",
       "0  [I, want, to, use, a, track, bar, to, change, ...   \n",
       "1  [I, have, an, absolutely, positioned, div, con...   \n",
       "2  [Given, a, DateTime, representing, a, person, ...   \n",
       "3  [Given, a, specific, DateTime, value, how, do,...   \n",
       "4  [Is, there, a, standard, way, for, a, web, ser...   \n",
       "\n",
       "                                        title_tokens  \\\n",
       "0                     [Convert, Decimal, to, Double]   \n",
       "1  [Percentage, width, child, element, in, absolu...   \n",
       "2    [How, do, I, calculate, someone, s, age, in, C]   \n",
       "3                 [Calculate, relative, time, in, C]   \n",
       "4                  [Determine, a, user, s, timezone]   \n",
       "\n",
       "                                                tags  \n",
       "0  [c, #, floating-point, type-conversion, double...  \n",
       "1                   [html, css, internet-explorer-7]  \n",
       "2                             [c, #, .net, datetime]  \n",
       "3  [c, #, datetime, time, datediff, relative-time...  \n",
       "4  [html, browser, timezone, user-agent, timezone...  "
      ]
     },
     "execution_count": 32,
     "metadata": {},
     "output_type": "execute_result"
    }
   ],
   "source": [
    "df.head()"
   ]
  },
  {
   "cell_type": "markdown",
   "metadata": {},
   "source": [
    "I am going to identify most used words that show no meaning to our case and earase them along with the StopWords"
   ]
  },
  {
   "cell_type": "code",
   "execution_count": null,
   "metadata": {},
   "outputs": [],
   "source": [
    "freq_totale = nltk.Counter()\n",
    "for k in tokens:\n",
    "    freq_totale += freq_totale[k]"
   ]
  },
  {
   "cell_type": "code",
   "execution_count": null,
   "metadata": {},
   "outputs": [],
   "source": []
  }
 ],
 "metadata": {
  "kernelspec": {
   "display_name": "Python 3",
   "language": "python",
   "name": "python3"
  },
  "language_info": {
   "codemirror_mode": {
    "name": "ipython",
    "version": 3
   },
   "file_extension": ".py",
   "mimetype": "text/x-python",
   "name": "python",
   "nbconvert_exporter": "python",
   "pygments_lexer": "ipython3",
   "version": "3.7.3"
  }
 },
 "nbformat": 4,
 "nbformat_minor": 2
}
